{
 "cells": [
  {
   "cell_type": "code",
   "execution_count": 87,
   "id": "de238281",
   "metadata": {},
   "outputs": [],
   "source": [
    "\n",
    "a=[0,0,1,1,0,0,\n",
    "   0,1,0,0,1,0,\n",
    "   1,1,1,1,1,1,\n",
    "   1,0,0,0,0,1,\n",
    "   1,0,0,0,0,1,\n",
    "   ]\n",
    "b=[0,1,1,1,1,0,\n",
    "   0,1,0,0,1,0,\n",
    "   0,1,1,1,1,0,\n",
    "   0,1,0,0,1,0,\n",
    "   0,1,1,1,1,0,\n",
    "   ]\n",
    "c=[0,1,1,1,1,0,\n",
    "   0,1,0,0,0,0,\n",
    "   0,1,0,0,0,0,\n",
    "   0,1,0,0,0,0,\n",
    "   0,1,1,1,1,0,\n",
    "   ]"
   ]
  },
  {
   "cell_type": "code",
   "execution_count": 88,
   "id": "6e84318a",
   "metadata": {},
   "outputs": [],
   "source": [
    "y=[[1,0,0],\n",
    "   [0,1,0],\n",
    "   [0,0,1],\n",
    "   ]"
   ]
  },
  {
   "cell_type": "code",
   "execution_count": 89,
   "id": "d3372bf5",
   "metadata": {},
   "outputs": [],
   "source": [
    "import numpy as np\n",
    "import matplotlib.pyplot as plt\n"
   ]
  },
  {
   "cell_type": "code",
   "execution_count": 90,
   "id": "d56602b4",
   "metadata": {},
   "outputs": [
    {
     "data": {
      "text/plain": [
       "<matplotlib.image.AxesImage at 0x1a6705e97b0>"
      ]
     },
     "execution_count": 90,
     "metadata": {},
     "output_type": "execute_result"
    },
    {
     "data": {
      "image/png": "[encoded data removed]",
      "text/plain": [
       "<Figure size 640x480 with 1 Axes>"
      ]
     },
     "metadata": {},
     "output_type": "display_data"
    }
   ],
   "source": [
    "plt.imshow(np.array(c).reshape(5,6))"
   ]
  },
  {
   "cell_type": "code",
   "execution_count": 91,
   "id": "89582b47",
   "metadata": {},
   "outputs": [
    {
     "data": {
      "text/plain": [
       "array([[1, 0, 0],\n",
       "       [0, 1, 0],\n",
       "       [0, 0, 1]])"
      ]
     },
     "execution_count": 91,
     "metadata": {},
     "output_type": "execute_result"
    }
   ],
   "source": [
    "\n",
    "y=np.array(y)\n",
    "y"
   ]
  },
  {
   "cell_type": "code",
   "execution_count": 92,
   "id": "df4239fc",
   "metadata": {},
   "outputs": [
    {
     "data": {
      "text/plain": [
       "[array([[0, 0, 1, 1, 0, 0],\n",
       "        [0, 1, 0, 0, 1, 0],\n",
       "        [1, 1, 1, 1, 1, 1],\n",
       "        [1, 0, 0, 0, 0, 1],\n",
       "        [1, 0, 0, 0, 0, 1]]),\n",
       " array([[0, 1, 1, 1, 1, 0],\n",
       "        [0, 1, 0, 0, 1, 0],\n",
       "        [0, 1, 1, 1, 1, 0],\n",
       "        [0, 1, 0, 0, 1, 0],\n",
       "        [0, 1, 1, 1, 1, 0]]),\n",
       " array([[0, 1, 1, 1, 1, 0],\n",
       "        [0, 1, 0, 0, 0, 0],\n",
       "        [0, 1, 0, 0, 0, 0],\n",
       "        [0, 1, 0, 0, 0, 0],\n",
       "        [0, 1, 1, 1, 1, 0]])]"
      ]
     },
     "execution_count": 92,
     "metadata": {},
     "output_type": "execute_result"
    }
   ],
   "source": [
    "x=[np.array(a).reshape(5,6),np.array(b).reshape(5,6),np.array(c).reshape(5,6)]\n",
    "x"
   ]
  },
  {
   "cell_type": "code",
   "execution_count": 93,
   "id": "96eff91b",
   "metadata": {},
   "outputs": [],
   "source": [
    "def sigmoid(x):\n",
    "    return 1/(1+np.exp(-x))"
   ]
  },
  {
   "cell_type": "code",
   "execution_count": 94,
   "id": "00137808",
   "metadata": {},
   "outputs": [],
   "source": [
    "def f_forward(x,w1,w2):\n",
    "    z1=x.dot(w1)\n",
    "    a1=sigmoid(z1)\n",
    "    z2=a1.dot(w2)\n",
    "    a2=sigmoid(z2)\n",
    "    return a2"
   ]
  },
  {
   "cell_type": "code",
   "execution_count": 95,
   "id": "39e4cbac",
   "metadata": {},
   "outputs": [],
   "source": [
    "def generate_w(x, y):\n",
    "    l = []\n",
    "    for i in range(x * y):\n",
    "        l.append(np.random.rand())\n",
    "    return np.array(l).reshape(x, y)"
   ]
  },
  {
   "cell_type": "code",
   "execution_count": 96,
   "id": "31e70bc7",
   "metadata": {},
   "outputs": [],
   "source": [
    "def loss_list(out,y):\n",
    "    \n",
    "    s=(np.square(out-y))\n",
    "    s=np.sum(s)/len(s)\n",
    "    return s\n",
    "    "
   ]
  },
  {
   "cell_type": "code",
   "execution_count": 97,
   "id": "33cb4082",
   "metadata": {},
   "outputs": [],
   "source": [
    "def back_prop(x, y, w1, w2, alpha):\n",
    "    z1 = x.dot(w1)           \n",
    "    a1 = sigmoid(z1)           \n",
    "    z2 = a1.dot(w2)          \n",
    "    a2 = sigmoid(z2)           \n",
    "    d2 = (a2 - y) * (a2 * (1 - a2))    \n",
    "    d1 = (d2.dot(w2.T)) * (a1 * (1 - a1))  \n",
    "    w1_adj = np.outer(x, d1)   \n",
    "    w2_adj = np.outer(a1, d2)  \n",
    "    w1 = w1 - alpha * w1_adj\n",
    "    w2 = w2 - alpha * w2_adj\n",
    "    return w1, w2"
   ]
  },
  {
   "cell_type": "code",
   "execution_count": 98,
   "id": "959c225e",
   "metadata": {},
   "outputs": [],
   "source": [
    "def train(x, y, w1, w2, alpha, epochs):\n",
    "    acc = []\n",
    "    losses = []\n",
    "    for epoch in range(epochs):\n",
    "        l = []\n",
    "        for i in range(len(x)):\n",
    "            xi = x[i].reshape(-1)  \n",
    "            out = f_forward(xi, w1, w2)\n",
    "            l.append(loss_list(out, y[i]))  \n",
    "            w1, w2 = back_prop(xi, y[i], w1, w2, alpha)\n",
    "        losses.append(sum(l)/len(l))\n",
    "        acc.append(1 - (sum(l)/len(l)))\n",
    "        print(\"epoch:\", epoch+1, \"loss:\", losses[-1])\n",
    "    return acc, losses, w1, w2"
   ]
  },
  {
   "cell_type": "code",
   "execution_count": 99,
   "id": "a71874a9",
   "metadata": {},
   "outputs": [],
   "source": [
    "def predict(x,w1,w2):\n",
    "    out=f_forward(x,w1,w2)\n",
    "    max=0\n",
    "    k=0\n",
    "    for i in range(len(out[0])):\n",
    "        if(max<out[0][i]):\n",
    "            max=out[0][i]\n",
    "            k=i\n",
    "    if(k==0):\n",
    "        print(\"predicted a\")\n",
    "    elif(k==1):\n",
    "        print(\"predicted b\")\n",
    "    else:\n",
    "        print(\"predicted c\")\n",
    "    plt.imshow(x.reshape(5,6))\n",
    "    plt.show()"
   ]
  },
  {
   "cell_type": "code",
   "execution_count": 100,
   "id": "46c1c779",
   "metadata": {},
   "outputs": [
    {
     "name": "stdout",
     "output_type": "stream",
     "text": [
      "[[0.21574669 0.93039242 0.96695987 0.57168962 0.56469825]\n",
      " [0.23435271 0.27367235 0.32526526 0.59502824 0.11663615]\n",
      " [0.21154824 0.46508727 0.54444541 0.20102226 0.88401084]\n",
      " [0.94293086 0.82995463 0.97510649 0.29681976 0.67287967]\n",
      " [0.97564378 0.785059   0.12869169 0.11727118 0.33126388]\n",
      " [0.4199697  0.17871877 0.18165462 0.64074695 0.39233155]\n",
      " [0.75286322 0.3094529  0.30327384 0.69150517 0.37291623]\n",
      " [0.77295808 0.32825621 0.45037619 0.65015227 0.78252472]\n",
      " [0.37418892 0.01544214 0.36422163 0.24514894 0.80581116]\n",
      " [0.55441111 0.61224951 0.95616653 0.76202865 0.87627118]\n",
      " [0.82729813 0.27401843 0.50793378 0.50574124 0.493202  ]\n",
      " [0.06670132 0.10674078 0.96106939 0.73469142 0.26153063]\n",
      " [0.52086443 0.12815456 0.44527296 0.32369006 0.31952986]\n",
      " [0.56809034 0.75531256 0.61187625 0.77556794 0.68000465]\n",
      " [0.99295159 0.42076701 0.08585292 0.11036189 0.58337444]\n",
      " [0.34745748 0.03113608 0.27929095 0.78808194 0.35584759]\n",
      " [0.05017934 0.6676159  0.48328203 0.47843799 0.88405573]\n",
      " [0.61520635 0.70107904 0.41526689 0.32655374 0.98127038]\n",
      " [0.04618489 0.1668554  0.63884572 0.40792032 0.70575147]\n",
      " [0.92730971 0.31039769 0.52720984 0.48553472 0.68325385]\n",
      " [0.56796948 0.82552107 0.92386368 0.36736879 0.75329884]\n",
      " [0.11552423 0.71880845 0.66081729 0.84130224 0.63402164]\n",
      " [0.18836723 0.93064968 0.16174285 0.12413    0.19122524]\n",
      " [0.08976768 0.65525604 0.26831643 0.58254783 0.43043693]\n",
      " [0.80802064 0.91516377 0.69886367 0.18914608 0.52643537]\n",
      " [0.1001273  0.42946561 0.33823959 0.64292908 0.98249604]\n",
      " [0.24498372 0.14183633 0.11039805 0.34290887 0.42534931]\n",
      " [0.31704066 0.41100935 0.90244377 0.62456377 0.57469523]\n",
      " [0.06012447 0.97399334 0.7400015  0.32330819 0.89598305]\n",
      " [0.16735689 0.48041055 0.84351463 0.38073534 0.84910815]] [[0.91846159 0.15820795 0.25618492]\n",
      " [0.20064617 0.03744357 0.22816143]\n",
      " [0.06663578 0.74705873 0.16375617]\n",
      " [0.24201993 0.70360564 0.63899958]\n",
      " [0.7758756  0.93917667 0.87677077]]\n"
     ]
    }
   ],
   "source": [
    "w1=generate_w(30,5)\n",
    "w2=generate_w(5,3)\n",
    "print(w1,w2)\n"
   ]
  },
  {
   "cell_type": "code",
   "execution_count": 101,
   "id": "f3cec1ac",
   "metadata": {},
   "outputs": [
    {
     "name": "stdout",
     "output_type": "stream",
     "text": [
      "epoch: 1 loss: 0.5521679435307334\n",
      "epoch: 2 loss: 0.5450011770339415\n",
      "epoch: 3 loss: 0.5371295659812634\n",
      "epoch: 4 loss: 0.5284847456681585\n",
      "epoch: 5 loss: 0.5189998782807675\n",
      "epoch: 6 loss: 0.5086145027657825\n",
      "epoch: 7 loss: 0.49728132461921165\n",
      "epoch: 8 loss: 0.48497502015260086\n",
      "epoch: 9 loss: 0.4717026407181335\n",
      "epoch: 10 loss: 0.4575144228299237\n",
      "epoch: 11 loss: 0.44251285076147123\n",
      "epoch: 12 loss: 0.42685704218512716\n",
      "epoch: 13 loss: 0.41075954416782334\n",
      "epoch: 14 loss: 0.3944740142493229\n",
      "epoch: 15 loss: 0.37827500820883525\n",
      "epoch: 16 loss: 0.36243415014181557\n",
      "epoch: 17 loss: 0.3471985375456786\n",
      "epoch: 18 loss: 0.33277607086739747\n",
      "epoch: 19 loss: 0.3193290066176924\n",
      "epoch: 20 loss: 0.30697358150545573\n",
      "epoch: 21 loss: 0.29578218895084696\n",
      "epoch: 22 loss: 0.2857857332612576\n",
      "epoch: 23 loss: 0.2769760052210804\n",
      "epoch: 24 loss: 0.2693093367144494\n",
      "epoch: 25 loss: 0.2627125993795066\n",
      "epoch: 26 loss: 0.25709140527851104\n",
      "epoch: 27 loss: 0.2523392706302336\n",
      "epoch: 28 loss: 0.24834618832098498\n",
      "epoch: 29 loss: 0.245005461160698\n",
      "epoch: 30 loss: 0.24221833544089022\n",
      "epoch: 31 loss: 0.2398965557840386\n",
      "epoch: 32 loss: 0.23796328066820252\n",
      "epoch: 33 loss: 0.23635287899702437\n",
      "epoch: 34 loss: 0.23501006693590878\n",
      "epoch: 35 loss: 0.233888728691095\n",
      "epoch: 36 loss: 0.232950648902003\n",
      "epoch: 37 loss: 0.23216429121238388\n",
      "epoch: 38 loss: 0.2315036920250965\n",
      "epoch: 39 loss: 0.23094749656167315\n",
      "epoch: 40 loss: 0.2304781398925175\n",
      "epoch: 41 loss: 0.2300811627787277\n",
      "epoch: 42 loss: 0.2297446465365227\n",
      "epoch: 43 loss: 0.2294587496487651\n",
      "epoch: 44 loss: 0.2292153295531332\n",
      "epoch: 45 loss: 0.22900763475584565\n",
      "epoch: 46 loss: 0.22883005448329485\n",
      "epoch: 47 loss: 0.22867791513561783\n",
      "epoch: 48 loss: 0.22854731467624523\n",
      "epoch: 49 loss: 0.22843498771492296\n",
      "epoch: 50 loss: 0.22833819540959854\n",
      "epoch: 51 loss: 0.22825463544314117\n",
      "epoch: 52 loss: 0.22818236825352234\n",
      "epoch: 53 loss: 0.22811975644281327\n",
      "epoch: 54 loss: 0.22806541489146318\n",
      "epoch: 55 loss: 0.22801816958665264\n",
      "epoch: 56 loss: 0.22797702355987196\n",
      "epoch: 57 loss: 0.22794112863817603\n",
      "epoch: 58 loss: 0.22790976196124932\n",
      "epoch: 59 loss: 0.22788230641493223\n",
      "epoch: 60 loss: 0.22785823429118338\n",
      "epoch: 61 loss: 0.22783709361254953\n",
      "epoch: 62 loss: 0.22781849666240284\n",
      "epoch: 63 loss: 0.22780211034551326\n",
      "epoch: 64 loss: 0.2277876480709339\n",
      "epoch: 65 loss: 0.22777486290385962\n",
      "epoch: 66 loss: 0.22776354177758015\n",
      "epoch: 67 loss: 0.2277535005928947\n",
      "epoch: 68 loss: 0.22774458006197318\n",
      "epoch: 69 loss: 0.2277366421779159\n",
      "epoch: 70 loss: 0.22772956721119095\n",
      "epoch: 71 loss: 0.2277232511505343\n",
      "epoch: 72 loss: 0.22771760351943812\n",
      "epoch: 73 loss: 0.22771254551054954\n",
      "epoch: 74 loss: 0.22770800838958685\n",
      "epoch: 75 loss: 0.22770393212809384\n",
      "epoch: 76 loss: 0.22770026423077697\n",
      "epoch: 77 loss: 0.22769695872852594\n",
      "epoch: 78 loss: 0.22769397531270288\n",
      "epoch: 79 loss: 0.2276912785900356\n",
      "epoch: 80 loss: 0.22768883744060067\n",
      "epoch: 81 loss: 0.22768662446403187\n",
      "epoch: 82 loss: 0.22768461550131733\n",
      "epoch: 83 loss: 0.22768278922143229\n",
      "epoch: 84 loss: 0.2276811267636425\n",
      "epoch: 85 loss: 0.22767961142765955\n",
      "epoch: 86 loss: 0.2276782284049682\n",
      "epoch: 87 loss: 0.22767696454561448\n",
      "epoch: 88 loss: 0.22767580815556362\n",
      "epoch: 89 loss: 0.22767474882043837\n",
      "epoch: 90 loss: 0.22767377725204163\n",
      "epoch: 91 loss: 0.2276728851545772\n",
      "epoch: 92 loss: 0.2276720651079159\n",
      "epoch: 93 loss: 0.22767131046562375\n",
      "epoch: 94 loss: 0.22767061526578844\n",
      "epoch: 95 loss: 0.22766997415294984\n",
      "epoch: 96 loss: 0.22766938230967435\n",
      "epoch: 97 loss: 0.2276688353965122\n",
      "epoch: 98 loss: 0.2276683294992491\n",
      "epoch: 99 loss: 0.2276678610825099\n",
      "epoch: 100 loss: 0.22766742694889952\n"
     ]
    }
   ],
   "source": [
    "acc,loss_list,w1,w2=train(x,y,w1,w2,0.1,100)"
   ]
  },
  {
   "cell_type": "code",
   "execution_count": 102,
   "id": "e27ca6c4",
   "metadata": {},
   "outputs": [
    {
     "data": {
      "image/png": "[encoded data removed]",
      "text/plain": [
       "<Figure size 640x480 with 1 Axes>"
      ]
     },
     "metadata": {},
     "output_type": "display_data"
    }
   ],
   "source": [
    "plt.plot(acc)\n",
    "plt.xlabel('Epochs')\n",
    "plt.ylabel('Accuracy')\n",
    "plt.show()\n"
   ]
  },
  {
   "cell_type": "code",
   "execution_count": 103,
   "id": "45af13cd",
   "metadata": {},
   "outputs": [
    {
     "data": {
      "image/png": "[encoded data removed]",
      "text/plain": [
       "<Figure size 640x480 with 1 Axes>"
      ]
     },
     "metadata": {},
     "output_type": "display_data"
    }
   ],
   "source": [
    "import matplotlib.pyplot as plt\n",
    "plt.plot(loss_list)  \n",
    "plt.xlabel('Epochs')\n",
    "plt.ylabel('Loss')\n",
    "plt.title('Training Loss Curve')\n",
    "plt.show()\n"
   ]
  },
  {
   "cell_type": "code",
   "execution_count": 104,
   "id": "289fbe06",
   "metadata": {},
   "outputs": [
    {
     "name": "stdout",
     "output_type": "stream",
     "text": [
      "[[0.21574669 0.93039242 0.96695987 0.57168962 0.56469825]\n",
      " [0.23182785 0.27449803 0.3246494  0.59600394 0.11638305]\n",
      " [0.20993608 0.4661273  0.54343339 0.20018029 0.88370376]\n",
      " [0.94131871 0.83099467 0.97409447 0.29597779 0.67257259]\n",
      " [0.97311892 0.78588468 0.12807583 0.11824688 0.33101078]\n",
      " [0.4199697  0.17871877 0.18165462 0.64074695 0.39233155]\n",
      " [0.75286322 0.3094529  0.30327384 0.69150517 0.37291623]\n",
      " [0.77134593 0.32929624 0.44936417 0.64931031 0.78221764]\n",
      " [0.37418892 0.01544214 0.36422163 0.24514894 0.80581116]\n",
      " [0.55441111 0.61224951 0.95616653 0.76202865 0.87627118]\n",
      " [0.82786758 0.27415409 0.50813609 0.5040384  0.49312572]\n",
      " [0.06670132 0.10674078 0.96106939 0.73469142 0.26153063]\n",
      " [0.52177714 0.12836892 0.4448768  0.32187239 0.31947588]\n",
      " [0.56647819 0.75635259 0.61086423 0.77472598 0.67969756]\n",
      " [0.99352103 0.42090267 0.08605522 0.10865905 0.58329816]\n",
      " [0.34802692 0.03127174 0.27949326 0.7863791  0.35577131]\n",
      " [0.05074879 0.66775156 0.48348433 0.47673515 0.88397945]\n",
      " [0.61611905 0.7012934  0.41487073 0.32473607 0.98121639]\n",
      " [0.04709759 0.16706976 0.63844956 0.40610265 0.70569748]\n",
      " [0.92478485 0.31122337 0.52659398 0.48651043 0.68300075]\n",
      " [0.56796948 0.82552107 0.92386368 0.36736879 0.75329884]\n",
      " [0.11552423 0.71880845 0.66081729 0.84130224 0.63402164]\n",
      " [0.18802397 0.93057098 0.16234131 0.12424484 0.19120295]\n",
      " [0.09068039 0.6554704  0.26792028 0.58073016 0.43038294]\n",
      " [0.80893334 0.91537812 0.69846751 0.18732842 0.52638138]\n",
      " [0.09760244 0.43029129 0.33762373 0.64390479 0.98224294]\n",
      " [0.24245886 0.142662   0.10978219 0.34388458 0.42509621]\n",
      " [0.3145158  0.41183502 0.90182791 0.62553948 0.57444213]\n",
      " [0.0575996  0.97481901 0.73938564 0.32428389 0.89572995]\n",
      " [0.16826959 0.48062491 0.84311847 0.37891767 0.84905416]] [[ 0.32907849 -0.50003832 -0.31347048]\n",
      " [-0.39034296 -0.62190976 -0.33957547]\n",
      " [-0.52328506  0.08702366 -0.40419128]\n",
      " [-0.34740831  0.04772012  0.0691309 ]\n",
      " [ 0.18367101  0.27696987  0.31097217]]\n"
     ]
    }
   ],
   "source": [
    "print(w1,w2)"
   ]
  },
  {
   "cell_type": "code",
   "execution_count": null,
   "id": "20c95b41",
   "metadata": {},
   "outputs": [],
   "source": []
  },
  {
   "cell_type": "code",
   "execution_count": null,
   "id": "cc60ddbf",
   "metadata": {},
   "outputs": [],
   "source": []
  }
 ],
 "metadata": {
  "kernelspec": {
   "display_name": "Python 3",
   "language": "python",
   "name": "python3"
  },
  "language_info": {
   "codemirror_mode": {
    "name": "ipython",
    "version": 3
   },
   "file_extension": ".py",
   "mimetype": "text/x-python",
   "name": "python",
   "nbconvert_exporter": "python",
   "pygments_lexer": "ipython3",
   "version": "3.10.11"
  }
 },
 "nbformat": 4,
 "nbformat_minor": 5
}
