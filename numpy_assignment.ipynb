{
 "cells": [
  {
   "cell_type": "code",
   "execution_count": 1,
   "id": "c11da768",
   "metadata": {},
   "outputs": [
    {
     "name": "stdout",
     "output_type": "stream",
     "text": [
      "Array: [ 1  2  3  4  5  6  7  8  9 10 11 12 13 14 15 16 17 18 19 20]\n",
      "Sum: 210\n",
      "Mean: 10.5\n",
      "Median: 10.5\n",
      "Standard Deviation: 5.766281297335398\n",
      "Indices of elements > 10: [10 11 12 13 14 15 16 17 18 19]\n"
     ]
    }
   ],
   "source": [
    "import numpy as np\n",
    "arr = np.arange(1, 21)\n",
    "arr_sum = np.sum(arr)\n",
    "arr_mean = np.mean(arr)\n",
    "arr_median = np.median(arr)\n",
    "arr_std = np.std(arr)\n",
    "indices_gt_10 = np.where(arr > 10)[0]\n",
    "print(\"Array:\", arr)\n",
    "print(\"Sum:\", arr_sum)\n",
    "print(\"Mean:\", arr_mean)\n",
    "print(\"Median:\", arr_median)\n",
    "print(\"Standard Deviation:\", arr_std)\n",
    "print(\"Indices of elements > 10:\", indices_gt_10)\n"
   ]
  },
  {
   "cell_type": "code",
   "execution_count": null,
   "id": "c1e133f3",
   "metadata": {},
   "outputs": [
    {
     "name": "stdout",
     "output_type": "stream",
     "text": [
      "Original 4x4 array:\n",
      "[[ 1  2  3  4]\n",
      " [ 5  6  7  8]\n",
      " [ 9 10 11 12]\n",
      " [13 14 15 16]]\n",
      "\n",
      "Transpose of the array:\n",
      "[[ 1  5  9 13]\n",
      " [ 2  6 10 14]\n",
      " [ 3  7 11 15]\n",
      " [ 4  8 12 16]]\n",
      "\n",
      "Row-wise sums:\n",
      "[10 26 42 58]\n",
      "\n",
      "Column-wise sums:\n",
      "[28 32 36 40]\n"
     ]
    }
   ],
   "source": [
    "arr_2d = np.arange(1, 17).reshape(4, 4)\n",
    "print(\"Original 4x4 array:\")\n",
    "print(arr_2d)\n",
    "transpose_arr = arr_2d.T\n",
    "print(\"\\nTranspose of the array:\")\n",
    "print(transpose_arr)\n",
    "row_sums = np.sum(arr_2d, axis=1)\n",
    "print(\"\\nRow-wise sums:\")\n",
    "print(row_sums)\n",
    "col_sums = np.sum(arr_2d, axis=0)\n",
    "print(\"\\nColumn-wise sums:\")\n",
    "print(col_sums)\n"
   ]
  },
  {
   "cell_type": "code",
   "execution_count": null,
   "id": "270159ff",
   "metadata": {},
   "outputs": [
    {
     "name": "stdout",
     "output_type": "stream",
     "text": [
      "Array A:\n",
      "[[13 16  1]\n",
      " [ 4  4  8]\n",
      " [10 20 19]]\n",
      "\n",
      "Array B:\n",
      "[[ 5  7 13]\n",
      " [ 2  7  8]\n",
      " [15 18  6]]\n",
      "\n",
      "Element-wise Addition:\n",
      "[[18 23 14]\n",
      " [ 6 11 16]\n",
      " [25 38 25]]\n",
      "\n",
      "Element-wise Subtraction:\n",
      "[[  8   9 -12]\n",
      " [  2  -3   0]\n",
      " [ -5   2  13]]\n",
      "\n",
      "Element-wise Multiplication:\n",
      "[[ 65 112  13]\n",
      " [  8  28  64]\n",
      " [150 360 114]]\n",
      "\n",
      "Dot Product of A and B:\n",
      "[[112 221 303]\n",
      " [148 200 132]\n",
      " [375 552 404]]\n"
     ]
    }
   ],
   "source": [
    "import numpy as np\n",
    "np.random.seed(0)\n",
    "A = np.random.randint(1, 21, size=(3, 3))\n",
    "B = np.random.randint(1, 21, size=(3, 3))\n",
    "addition = A + B\n",
    "subtraction = A - B\n",
    "multiplication = A * B\n",
    "dot_product = np.dot(A, B)\n",
    "print(\"Array A:\")\n",
    "print(A)\n",
    "print(\"\\nArray B:\")\n",
    "print(B)\n",
    "print(\"\\nElement-wise Addition:\")\n",
    "print(addition)\n",
    "print(\"\\nElement-wise Subtraction:\")\n",
    "print(subtraction)\n",
    "print(\"\\nElement-wise Multiplication:\")\n",
    "print(multiplication)\n",
    "print(\"\\nDot Product of A and B:\")\n",
    "print(dot_product)\n"
   ]
  },
  {
   "cell_type": "code",
   "execution_count": null,
   "id": "0322e16f",
   "metadata": {},
   "outputs": [
    {
     "name": "stdout",
     "output_type": "stream",
     "text": [
      "Original 2D array (3x4):\n",
      "[[ 1  2  3  4]\n",
      " [ 5  6  7  8]\n",
      " [ 9 10 11 12]]\n",
      "\n",
      "Sliced array (first two rows, last two columns):\n",
      "[[3 4]\n",
      " [7 8]]\n"
     ]
    }
   ],
   "source": [
    "import numpy as np\n",
    "arr = np.arange(1, 13)\n",
    "arr_2d = arr.reshape(3, 4)\n",
    "sliced = arr_2d[:2, -2:]\n",
    "print(\"Original 2D array (3x4):\")\n",
    "print(arr_2d)\n",
    "print(\"\\nSliced array (first two rows, last two columns):\")\n",
    "print(sliced)\n"
   ]
  },
  {
   "cell_type": "code",
   "execution_count": null,
   "id": "7d81ef11",
   "metadata": {},
   "outputs": [],
   "source": []
  }
 ],
 "metadata": {
  "kernelspec": {
   "display_name": "Python 3",
   "language": "python",
   "name": "python3"
  },
  "language_info": {
   "codemirror_mode": {
    "name": "ipython",
    "version": 3
   },
   "file_extension": ".py",
   "mimetype": "text/x-python",
   "name": "python",
   "nbconvert_exporter": "python",
   "pygments_lexer": "ipython3",
   "version": "3.13.6"
  }
 },
 "nbformat": 4,
 "nbformat_minor": 5
}
